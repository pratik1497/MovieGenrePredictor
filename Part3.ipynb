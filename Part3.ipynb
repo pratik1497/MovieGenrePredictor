{
 "cells": [
  {
   "cell_type": "markdown",
   "metadata": {},
   "source": [
    "## Part 3 Fine Tune CNN"
   ]
  },
  {
   "cell_type": "code",
   "execution_count": 1,
   "metadata": {
    "collapsed": true
   },
   "outputs": [],
   "source": [
    "import numpy as np\n",
    "import pandas as pd\n",
    "import matplotlib\n",
    "import matplotlib.pyplot as plt\n",
    "%matplotlib inline\n",
    "import seaborn as sns"
   ]
  },
  {
   "cell_type": "markdown",
   "metadata": {},
   "source": [
    "# Open CSV File from Part1"
   ]
  },
  {
   "cell_type": "code",
   "execution_count": 2,
   "metadata": {
    "collapsed": true
   },
   "outputs": [],
   "source": [
    "data = pd.read_csv(\"FinalData.csv\", delimiter=';')"
   ]
  },
  {
   "cell_type": "code",
   "execution_count": 3,
   "metadata": {},
   "outputs": [
    {
     "data": {
      "text/html": [
       "<div>\n",
       "<style>\n",
       "    .dataframe thead tr:only-child th {\n",
       "        text-align: right;\n",
       "    }\n",
       "\n",
       "    .dataframe thead th {\n",
       "        text-align: left;\n",
       "    }\n",
       "\n",
       "    .dataframe tbody tr th {\n",
       "        vertical-align: top;\n",
       "    }\n",
       "</style>\n",
       "<table border=\"1\" class=\"dataframe\">\n",
       "  <thead>\n",
       "    <tr style=\"text-align: right;\">\n",
       "      <th></th>\n",
       "      <th>TMDB ID</th>\n",
       "      <th>poster path</th>\n",
       "      <th>Action</th>\n",
       "      <th>Adventure</th>\n",
       "      <th>Animation</th>\n",
       "      <th>Comedy</th>\n",
       "      <th>Crime</th>\n",
       "      <th>Documentary</th>\n",
       "      <th>Drama</th>\n",
       "      <th>Family</th>\n",
       "      <th>...</th>\n",
       "      <th>History</th>\n",
       "      <th>Horror</th>\n",
       "      <th>Music</th>\n",
       "      <th>Mystery</th>\n",
       "      <th>Romance</th>\n",
       "      <th>Science Fiction</th>\n",
       "      <th>TV Movie</th>\n",
       "      <th>Thriller</th>\n",
       "      <th>War</th>\n",
       "      <th>Western</th>\n",
       "    </tr>\n",
       "  </thead>\n",
       "  <tbody>\n",
       "    <tr>\n",
       "      <th>0</th>\n",
       "      <td>337167</td>\n",
       "      <td>/jjPJ4s3DWZZvI4vw8Xfi4Vqa1Q8.jpg</td>\n",
       "      <td>0</td>\n",
       "      <td>0</td>\n",
       "      <td>0</td>\n",
       "      <td>0</td>\n",
       "      <td>0</td>\n",
       "      <td>0</td>\n",
       "      <td>1</td>\n",
       "      <td>0</td>\n",
       "      <td>...</td>\n",
       "      <td>0</td>\n",
       "      <td>0</td>\n",
       "      <td>0</td>\n",
       "      <td>0</td>\n",
       "      <td>1</td>\n",
       "      <td>0</td>\n",
       "      <td>0</td>\n",
       "      <td>0</td>\n",
       "      <td>0</td>\n",
       "      <td>0</td>\n",
       "    </tr>\n",
       "    <tr>\n",
       "      <th>1</th>\n",
       "      <td>269149</td>\n",
       "      <td>/sM33SANp9z6rXW8Itn7NnG1GOEs.jpg</td>\n",
       "      <td>0</td>\n",
       "      <td>1</td>\n",
       "      <td>1</td>\n",
       "      <td>1</td>\n",
       "      <td>0</td>\n",
       "      <td>0</td>\n",
       "      <td>0</td>\n",
       "      <td>1</td>\n",
       "      <td>...</td>\n",
       "      <td>0</td>\n",
       "      <td>0</td>\n",
       "      <td>0</td>\n",
       "      <td>0</td>\n",
       "      <td>0</td>\n",
       "      <td>0</td>\n",
       "      <td>0</td>\n",
       "      <td>0</td>\n",
       "      <td>0</td>\n",
       "      <td>0</td>\n",
       "    </tr>\n",
       "    <tr>\n",
       "      <th>2</th>\n",
       "      <td>299536</td>\n",
       "      <td>/7WsyChQLEftFiDOVTGkv3hFpyyt.jpg</td>\n",
       "      <td>1</td>\n",
       "      <td>1</td>\n",
       "      <td>0</td>\n",
       "      <td>0</td>\n",
       "      <td>0</td>\n",
       "      <td>0</td>\n",
       "      <td>0</td>\n",
       "      <td>0</td>\n",
       "      <td>...</td>\n",
       "      <td>0</td>\n",
       "      <td>0</td>\n",
       "      <td>0</td>\n",
       "      <td>0</td>\n",
       "      <td>0</td>\n",
       "      <td>1</td>\n",
       "      <td>0</td>\n",
       "      <td>0</td>\n",
       "      <td>0</td>\n",
       "      <td>0</td>\n",
       "    </tr>\n",
       "    <tr>\n",
       "      <th>3</th>\n",
       "      <td>354912</td>\n",
       "      <td>/eKi8dIrr8voobbaGzDpe8w0PVbC.jpg</td>\n",
       "      <td>0</td>\n",
       "      <td>1</td>\n",
       "      <td>1</td>\n",
       "      <td>1</td>\n",
       "      <td>0</td>\n",
       "      <td>0</td>\n",
       "      <td>0</td>\n",
       "      <td>1</td>\n",
       "      <td>...</td>\n",
       "      <td>0</td>\n",
       "      <td>0</td>\n",
       "      <td>0</td>\n",
       "      <td>0</td>\n",
       "      <td>0</td>\n",
       "      <td>0</td>\n",
       "      <td>0</td>\n",
       "      <td>0</td>\n",
       "      <td>0</td>\n",
       "      <td>0</td>\n",
       "    </tr>\n",
       "    <tr>\n",
       "      <th>4</th>\n",
       "      <td>427641</td>\n",
       "      <td>/30oXQKwibh0uANGMs0Sytw3uN22.jpg</td>\n",
       "      <td>1</td>\n",
       "      <td>1</td>\n",
       "      <td>0</td>\n",
       "      <td>0</td>\n",
       "      <td>0</td>\n",
       "      <td>0</td>\n",
       "      <td>0</td>\n",
       "      <td>0</td>\n",
       "      <td>...</td>\n",
       "      <td>0</td>\n",
       "      <td>0</td>\n",
       "      <td>0</td>\n",
       "      <td>0</td>\n",
       "      <td>0</td>\n",
       "      <td>1</td>\n",
       "      <td>0</td>\n",
       "      <td>0</td>\n",
       "      <td>0</td>\n",
       "      <td>0</td>\n",
       "    </tr>\n",
       "  </tbody>\n",
       "</table>\n",
       "<p>5 rows × 21 columns</p>\n",
       "</div>"
      ],
      "text/plain": [
       "   TMDB ID                       poster path  Action  Adventure  Animation  \\\n",
       "0   337167  /jjPJ4s3DWZZvI4vw8Xfi4Vqa1Q8.jpg       0          0          0   \n",
       "1   269149  /sM33SANp9z6rXW8Itn7NnG1GOEs.jpg       0          1          1   \n",
       "2   299536  /7WsyChQLEftFiDOVTGkv3hFpyyt.jpg       1          1          0   \n",
       "3   354912  /eKi8dIrr8voobbaGzDpe8w0PVbC.jpg       0          1          1   \n",
       "4   427641  /30oXQKwibh0uANGMs0Sytw3uN22.jpg       1          1          0   \n",
       "\n",
       "   Comedy  Crime  Documentary  Drama  Family   ...     History  Horror  Music  \\\n",
       "0       0      0            0      1       0   ...           0       0      0   \n",
       "1       1      0            0      0       1   ...           0       0      0   \n",
       "2       0      0            0      0       0   ...           0       0      0   \n",
       "3       1      0            0      0       1   ...           0       0      0   \n",
       "4       0      0            0      0       0   ...           0       0      0   \n",
       "\n",
       "   Mystery  Romance  Science Fiction  TV Movie  Thriller  War  Western  \n",
       "0        0        1                0         0         0    0        0  \n",
       "1        0        0                0         0         0    0        0  \n",
       "2        0        0                1         0         0    0        0  \n",
       "3        0        0                0         0         0    0        0  \n",
       "4        0        0                1         0         0    0        0  \n",
       "\n",
       "[5 rows x 21 columns]"
      ]
     },
     "execution_count": 3,
     "metadata": {},
     "output_type": "execute_result"
    }
   ],
   "source": [
    "data.head(5)"
   ]
  },
  {
   "cell_type": "markdown",
   "metadata": {},
   "source": [
    "# Remove Genres that are not as Popular"
   ]
  },
  {
   "cell_type": "code",
   "execution_count": 4,
   "metadata": {},
   "outputs": [
    {
     "data": {
      "text/html": [
       "<div>\n",
       "<style>\n",
       "    .dataframe thead tr:only-child th {\n",
       "        text-align: right;\n",
       "    }\n",
       "\n",
       "    .dataframe thead th {\n",
       "        text-align: left;\n",
       "    }\n",
       "\n",
       "    .dataframe tbody tr th {\n",
       "        vertical-align: top;\n",
       "    }\n",
       "</style>\n",
       "<table border=\"1\" class=\"dataframe\">\n",
       "  <thead>\n",
       "    <tr style=\"text-align: right;\">\n",
       "      <th></th>\n",
       "      <th>TMDB ID</th>\n",
       "      <th>poster path</th>\n",
       "      <th>Action</th>\n",
       "      <th>Adventure</th>\n",
       "      <th>Comedy</th>\n",
       "      <th>Crime</th>\n",
       "      <th>Drama</th>\n",
       "      <th>Horror</th>\n",
       "      <th>Romance</th>\n",
       "      <th>Science Fiction</th>\n",
       "      <th>Thriller</th>\n",
       "    </tr>\n",
       "  </thead>\n",
       "  <tbody>\n",
       "    <tr>\n",
       "      <th>0</th>\n",
       "      <td>337167</td>\n",
       "      <td>/jjPJ4s3DWZZvI4vw8Xfi4Vqa1Q8.jpg</td>\n",
       "      <td>0</td>\n",
       "      <td>0</td>\n",
       "      <td>0</td>\n",
       "      <td>0</td>\n",
       "      <td>1</td>\n",
       "      <td>0</td>\n",
       "      <td>1</td>\n",
       "      <td>0</td>\n",
       "      <td>0</td>\n",
       "    </tr>\n",
       "    <tr>\n",
       "      <th>1</th>\n",
       "      <td>269149</td>\n",
       "      <td>/sM33SANp9z6rXW8Itn7NnG1GOEs.jpg</td>\n",
       "      <td>0</td>\n",
       "      <td>1</td>\n",
       "      <td>1</td>\n",
       "      <td>0</td>\n",
       "      <td>0</td>\n",
       "      <td>0</td>\n",
       "      <td>0</td>\n",
       "      <td>0</td>\n",
       "      <td>0</td>\n",
       "    </tr>\n",
       "    <tr>\n",
       "      <th>2</th>\n",
       "      <td>299536</td>\n",
       "      <td>/7WsyChQLEftFiDOVTGkv3hFpyyt.jpg</td>\n",
       "      <td>1</td>\n",
       "      <td>1</td>\n",
       "      <td>0</td>\n",
       "      <td>0</td>\n",
       "      <td>0</td>\n",
       "      <td>0</td>\n",
       "      <td>0</td>\n",
       "      <td>1</td>\n",
       "      <td>0</td>\n",
       "    </tr>\n",
       "    <tr>\n",
       "      <th>3</th>\n",
       "      <td>354912</td>\n",
       "      <td>/eKi8dIrr8voobbaGzDpe8w0PVbC.jpg</td>\n",
       "      <td>0</td>\n",
       "      <td>1</td>\n",
       "      <td>1</td>\n",
       "      <td>0</td>\n",
       "      <td>0</td>\n",
       "      <td>0</td>\n",
       "      <td>0</td>\n",
       "      <td>0</td>\n",
       "      <td>0</td>\n",
       "    </tr>\n",
       "    <tr>\n",
       "      <th>4</th>\n",
       "      <td>427641</td>\n",
       "      <td>/30oXQKwibh0uANGMs0Sytw3uN22.jpg</td>\n",
       "      <td>1</td>\n",
       "      <td>1</td>\n",
       "      <td>0</td>\n",
       "      <td>0</td>\n",
       "      <td>0</td>\n",
       "      <td>0</td>\n",
       "      <td>0</td>\n",
       "      <td>1</td>\n",
       "      <td>0</td>\n",
       "    </tr>\n",
       "    <tr>\n",
       "      <th>5</th>\n",
       "      <td>284054</td>\n",
       "      <td>/uxzzxijgPIY7slzFvMotPv8wjKA.jpg</td>\n",
       "      <td>1</td>\n",
       "      <td>1</td>\n",
       "      <td>0</td>\n",
       "      <td>0</td>\n",
       "      <td>0</td>\n",
       "      <td>0</td>\n",
       "      <td>0</td>\n",
       "      <td>1</td>\n",
       "      <td>0</td>\n",
       "    </tr>\n",
       "    <tr>\n",
       "      <th>6</th>\n",
       "      <td>321612</td>\n",
       "      <td>/tWqifoYuwLETmmasnGHO7xBjEtt.jpg</td>\n",
       "      <td>0</td>\n",
       "      <td>0</td>\n",
       "      <td>0</td>\n",
       "      <td>0</td>\n",
       "      <td>0</td>\n",
       "      <td>0</td>\n",
       "      <td>1</td>\n",
       "      <td>0</td>\n",
       "      <td>0</td>\n",
       "    </tr>\n",
       "    <tr>\n",
       "      <th>7</th>\n",
       "      <td>181808</td>\n",
       "      <td>/kOVEVeg59E0wsnXmF9nrh6OmWII.jpg</td>\n",
       "      <td>0</td>\n",
       "      <td>1</td>\n",
       "      <td>0</td>\n",
       "      <td>0</td>\n",
       "      <td>0</td>\n",
       "      <td>0</td>\n",
       "      <td>0</td>\n",
       "      <td>1</td>\n",
       "      <td>0</td>\n",
       "    </tr>\n",
       "    <tr>\n",
       "      <th>8</th>\n",
       "      <td>447332</td>\n",
       "      <td>/nAU74GmpUk7t5iklEp3bufwDq4n.jpg</td>\n",
       "      <td>0</td>\n",
       "      <td>0</td>\n",
       "      <td>0</td>\n",
       "      <td>0</td>\n",
       "      <td>1</td>\n",
       "      <td>1</td>\n",
       "      <td>0</td>\n",
       "      <td>1</td>\n",
       "      <td>1</td>\n",
       "    </tr>\n",
       "    <tr>\n",
       "      <th>9</th>\n",
       "      <td>198663</td>\n",
       "      <td>/coss7RgL0NH6g4fC2s5atvf3dFO.jpg</td>\n",
       "      <td>1</td>\n",
       "      <td>0</td>\n",
       "      <td>0</td>\n",
       "      <td>0</td>\n",
       "      <td>0</td>\n",
       "      <td>0</td>\n",
       "      <td>0</td>\n",
       "      <td>1</td>\n",
       "      <td>1</td>\n",
       "    </tr>\n",
       "  </tbody>\n",
       "</table>\n",
       "</div>"
      ],
      "text/plain": [
       "   TMDB ID                       poster path  Action  Adventure  Comedy  \\\n",
       "0   337167  /jjPJ4s3DWZZvI4vw8Xfi4Vqa1Q8.jpg       0          0       0   \n",
       "1   269149  /sM33SANp9z6rXW8Itn7NnG1GOEs.jpg       0          1       1   \n",
       "2   299536  /7WsyChQLEftFiDOVTGkv3hFpyyt.jpg       1          1       0   \n",
       "3   354912  /eKi8dIrr8voobbaGzDpe8w0PVbC.jpg       0          1       1   \n",
       "4   427641  /30oXQKwibh0uANGMs0Sytw3uN22.jpg       1          1       0   \n",
       "5   284054  /uxzzxijgPIY7slzFvMotPv8wjKA.jpg       1          1       0   \n",
       "6   321612  /tWqifoYuwLETmmasnGHO7xBjEtt.jpg       0          0       0   \n",
       "7   181808  /kOVEVeg59E0wsnXmF9nrh6OmWII.jpg       0          1       0   \n",
       "8   447332  /nAU74GmpUk7t5iklEp3bufwDq4n.jpg       0          0       0   \n",
       "9   198663  /coss7RgL0NH6g4fC2s5atvf3dFO.jpg       1          0       0   \n",
       "\n",
       "   Crime  Drama  Horror  Romance  Science Fiction  Thriller  \n",
       "0      0      1       0        1                0         0  \n",
       "1      0      0       0        0                0         0  \n",
       "2      0      0       0        0                1         0  \n",
       "3      0      0       0        0                0         0  \n",
       "4      0      0       0        0                1         0  \n",
       "5      0      0       0        0                1         0  \n",
       "6      0      0       0        1                0         0  \n",
       "7      0      0       0        0                1         0  \n",
       "8      0      1       1        0                1         1  \n",
       "9      0      0       0        0                1         1  "
      ]
     },
     "execution_count": 4,
     "metadata": {},
     "output_type": "execute_result"
    }
   ],
   "source": [
    "genres=data.drop([\"TV Movie\",\"Western\",\"Documentary\",\"War\",\"Music\",\"History\",\"Animation\",\"Mystery\",\"Fantasy\",\"Family\"], axis=1)\n",
    "genres.head(10)"
   ]
  },
  {
   "cell_type": "markdown",
   "metadata": {},
   "source": [
    "### Remove any Empty Rows"
   ]
  },
  {
   "cell_type": "code",
   "execution_count": 5,
   "metadata": {},
   "outputs": [
    {
     "name": "stdout",
     "output_type": "stream",
     "text": [
      "11062\n",
      "(10590, 11)\n"
     ]
    }
   ],
   "source": [
    "sumRow=genres[[\"Action\",\"Adventure\",\"Comedy\",\"Crime\",\"Drama\",\"Horror\",\"Romance\",\"Science Fiction\",\"Thriller\"]].sum(axis=1)\n",
    "Remove=[]\n",
    "print(len(sumRow))\n",
    "for i in range(len(sumRow)):\n",
    "    if(sumRow[i]==0):\n",
    "        Remove.append(i)\n",
    "genres=genres.drop(Remove)\n",
    "print(genres.shape)"
   ]
  },
  {
   "cell_type": "code",
   "execution_count": 6,
   "metadata": {},
   "outputs": [
    {
     "data": {
      "text/html": [
       "<div>\n",
       "<style>\n",
       "    .dataframe thead tr:only-child th {\n",
       "        text-align: right;\n",
       "    }\n",
       "\n",
       "    .dataframe thead th {\n",
       "        text-align: left;\n",
       "    }\n",
       "\n",
       "    .dataframe tbody tr th {\n",
       "        vertical-align: top;\n",
       "    }\n",
       "</style>\n",
       "<table border=\"1\" class=\"dataframe\">\n",
       "  <thead>\n",
       "    <tr style=\"text-align: right;\">\n",
       "      <th></th>\n",
       "      <th>TMDB ID</th>\n",
       "      <th>poster path</th>\n",
       "      <th>Action</th>\n",
       "      <th>Adventure</th>\n",
       "      <th>Comedy</th>\n",
       "      <th>Crime</th>\n",
       "      <th>Drama</th>\n",
       "      <th>Horror</th>\n",
       "      <th>Romance</th>\n",
       "      <th>Science Fiction</th>\n",
       "      <th>Thriller</th>\n",
       "    </tr>\n",
       "  </thead>\n",
       "  <tbody>\n",
       "    <tr>\n",
       "      <th>0</th>\n",
       "      <td>337167</td>\n",
       "      <td>/jjPJ4s3DWZZvI4vw8Xfi4Vqa1Q8.jpg</td>\n",
       "      <td>0</td>\n",
       "      <td>0</td>\n",
       "      <td>0</td>\n",
       "      <td>0</td>\n",
       "      <td>1</td>\n",
       "      <td>0</td>\n",
       "      <td>1</td>\n",
       "      <td>0</td>\n",
       "      <td>0</td>\n",
       "    </tr>\n",
       "    <tr>\n",
       "      <th>1</th>\n",
       "      <td>269149</td>\n",
       "      <td>/sM33SANp9z6rXW8Itn7NnG1GOEs.jpg</td>\n",
       "      <td>0</td>\n",
       "      <td>1</td>\n",
       "      <td>1</td>\n",
       "      <td>0</td>\n",
       "      <td>0</td>\n",
       "      <td>0</td>\n",
       "      <td>0</td>\n",
       "      <td>0</td>\n",
       "      <td>0</td>\n",
       "    </tr>\n",
       "    <tr>\n",
       "      <th>2</th>\n",
       "      <td>299536</td>\n",
       "      <td>/7WsyChQLEftFiDOVTGkv3hFpyyt.jpg</td>\n",
       "      <td>1</td>\n",
       "      <td>1</td>\n",
       "      <td>0</td>\n",
       "      <td>0</td>\n",
       "      <td>0</td>\n",
       "      <td>0</td>\n",
       "      <td>0</td>\n",
       "      <td>1</td>\n",
       "      <td>0</td>\n",
       "    </tr>\n",
       "    <tr>\n",
       "      <th>3</th>\n",
       "      <td>354912</td>\n",
       "      <td>/eKi8dIrr8voobbaGzDpe8w0PVbC.jpg</td>\n",
       "      <td>0</td>\n",
       "      <td>1</td>\n",
       "      <td>1</td>\n",
       "      <td>0</td>\n",
       "      <td>0</td>\n",
       "      <td>0</td>\n",
       "      <td>0</td>\n",
       "      <td>0</td>\n",
       "      <td>0</td>\n",
       "    </tr>\n",
       "    <tr>\n",
       "      <th>4</th>\n",
       "      <td>427641</td>\n",
       "      <td>/30oXQKwibh0uANGMs0Sytw3uN22.jpg</td>\n",
       "      <td>1</td>\n",
       "      <td>1</td>\n",
       "      <td>0</td>\n",
       "      <td>0</td>\n",
       "      <td>0</td>\n",
       "      <td>0</td>\n",
       "      <td>0</td>\n",
       "      <td>1</td>\n",
       "      <td>0</td>\n",
       "    </tr>\n",
       "    <tr>\n",
       "      <th>5</th>\n",
       "      <td>284054</td>\n",
       "      <td>/uxzzxijgPIY7slzFvMotPv8wjKA.jpg</td>\n",
       "      <td>1</td>\n",
       "      <td>1</td>\n",
       "      <td>0</td>\n",
       "      <td>0</td>\n",
       "      <td>0</td>\n",
       "      <td>0</td>\n",
       "      <td>0</td>\n",
       "      <td>1</td>\n",
       "      <td>0</td>\n",
       "    </tr>\n",
       "    <tr>\n",
       "      <th>6</th>\n",
       "      <td>321612</td>\n",
       "      <td>/tWqifoYuwLETmmasnGHO7xBjEtt.jpg</td>\n",
       "      <td>0</td>\n",
       "      <td>0</td>\n",
       "      <td>0</td>\n",
       "      <td>0</td>\n",
       "      <td>0</td>\n",
       "      <td>0</td>\n",
       "      <td>1</td>\n",
       "      <td>0</td>\n",
       "      <td>0</td>\n",
       "    </tr>\n",
       "    <tr>\n",
       "      <th>7</th>\n",
       "      <td>181808</td>\n",
       "      <td>/kOVEVeg59E0wsnXmF9nrh6OmWII.jpg</td>\n",
       "      <td>0</td>\n",
       "      <td>1</td>\n",
       "      <td>0</td>\n",
       "      <td>0</td>\n",
       "      <td>0</td>\n",
       "      <td>0</td>\n",
       "      <td>0</td>\n",
       "      <td>1</td>\n",
       "      <td>0</td>\n",
       "    </tr>\n",
       "    <tr>\n",
       "      <th>8</th>\n",
       "      <td>447332</td>\n",
       "      <td>/nAU74GmpUk7t5iklEp3bufwDq4n.jpg</td>\n",
       "      <td>0</td>\n",
       "      <td>0</td>\n",
       "      <td>0</td>\n",
       "      <td>0</td>\n",
       "      <td>1</td>\n",
       "      <td>1</td>\n",
       "      <td>0</td>\n",
       "      <td>1</td>\n",
       "      <td>1</td>\n",
       "    </tr>\n",
       "    <tr>\n",
       "      <th>9</th>\n",
       "      <td>198663</td>\n",
       "      <td>/coss7RgL0NH6g4fC2s5atvf3dFO.jpg</td>\n",
       "      <td>1</td>\n",
       "      <td>0</td>\n",
       "      <td>0</td>\n",
       "      <td>0</td>\n",
       "      <td>0</td>\n",
       "      <td>0</td>\n",
       "      <td>0</td>\n",
       "      <td>1</td>\n",
       "      <td>1</td>\n",
       "    </tr>\n",
       "  </tbody>\n",
       "</table>\n",
       "</div>"
      ],
      "text/plain": [
       "   TMDB ID                       poster path  Action  Adventure  Comedy  \\\n",
       "0   337167  /jjPJ4s3DWZZvI4vw8Xfi4Vqa1Q8.jpg       0          0       0   \n",
       "1   269149  /sM33SANp9z6rXW8Itn7NnG1GOEs.jpg       0          1       1   \n",
       "2   299536  /7WsyChQLEftFiDOVTGkv3hFpyyt.jpg       1          1       0   \n",
       "3   354912  /eKi8dIrr8voobbaGzDpe8w0PVbC.jpg       0          1       1   \n",
       "4   427641  /30oXQKwibh0uANGMs0Sytw3uN22.jpg       1          1       0   \n",
       "5   284054  /uxzzxijgPIY7slzFvMotPv8wjKA.jpg       1          1       0   \n",
       "6   321612  /tWqifoYuwLETmmasnGHO7xBjEtt.jpg       0          0       0   \n",
       "7   181808  /kOVEVeg59E0wsnXmF9nrh6OmWII.jpg       0          1       0   \n",
       "8   447332  /nAU74GmpUk7t5iklEp3bufwDq4n.jpg       0          0       0   \n",
       "9   198663  /coss7RgL0NH6g4fC2s5atvf3dFO.jpg       1          0       0   \n",
       "\n",
       "   Crime  Drama  Horror  Romance  Science Fiction  Thriller  \n",
       "0      0      1       0        1                0         0  \n",
       "1      0      0       0        0                0         0  \n",
       "2      0      0       0        0                1         0  \n",
       "3      0      0       0        0                0         0  \n",
       "4      0      0       0        0                1         0  \n",
       "5      0      0       0        0                1         0  \n",
       "6      0      0       0        1                0         0  \n",
       "7      0      0       0        0                1         0  \n",
       "8      0      1       1        0                1         1  \n",
       "9      0      0       0        0                1         1  "
      ]
     },
     "execution_count": 6,
     "metadata": {},
     "output_type": "execute_result"
    }
   ],
   "source": [
    "genres.head(10)"
   ]
  },
  {
   "cell_type": "markdown",
   "metadata": {},
   "source": [
    "# Preprocess Images and CNN"
   ]
  },
  {
   "cell_type": "code",
   "execution_count": 7,
   "metadata": {
    "collapsed": true
   },
   "outputs": [],
   "source": [
    "import glob\n",
    "import scipy.misc \n",
    "\n",
    "\n",
    "from PIL import Image\n",
    "from PIL import ImageEnhance\n",
    "import PIL.ImageOps"
   ]
  },
  {
   "cell_type": "code",
   "execution_count": 8,
   "metadata": {
    "collapsed": true
   },
   "outputs": [],
   "source": [
    "VALIDATION_PERCENT = .2\n",
    "TEST_PERCENT = .2\n",
    "IMAGE_WIDTH = 154\n",
    "IMAGE_HEIGHT=154\n",
    "IMAGE_SIZE=154\n",
    "NUM_CHANNELS = 3 # RGB channels\n",
    "PIXEL_DEPTH = 255.0\n",
    "NUM_GENRES = 9\n",
    "NUM_ROWS=7000\n",
    "PARTITION_TEST = False"
   ]
  },
  {
   "cell_type": "code",
   "execution_count": 9,
   "metadata": {
    "collapsed": true
   },
   "outputs": [],
   "source": [
    "def read_image_from_file(file_path):\n",
    "    img = Image.open(file_path).convert('RGB')\n",
    "    img = img.resize((IMAGE_WIDTH,IMAGE_HEIGHT), Image.ANTIALIAS) #downsample image\n",
    "    pixel_values = np.array(img.getdata())\n",
    "    return np.reshape(pixel_values, [IMAGE_WIDTH,IMAGE_HEIGHT, NUM_CHANNELS])\n",
    "def scale_pixel_values(dataset):\n",
    "    return (dataset - PIXEL_DEPTH / 2.0) / PIXEL_DEPTH"
   ]
  },
  {
   "cell_type": "markdown",
   "metadata": {},
   "source": [
    "## Create Randomization\n"
   ]
  },
  {
   "cell_type": "code",
   "execution_count": 14,
   "metadata": {
    "collapsed": true
   },
   "outputs": [],
   "source": [
    "import random \n",
    "\n",
    "randomIndex=list(range(0,10590))\n",
    "random.shuffle(randomIndex)"
   ]
  },
  {
   "cell_type": "code",
   "execution_count": 56,
   "metadata": {
    "collapsed": true
   },
   "outputs": [],
   "source": [
    "randomIndex_df = pd.DataFrame(randomIndex)\n",
    "\n",
    "randomIndex_df.to_csv(\"randomIndex_10E.csv\")"
   ]
  },
  {
   "cell_type": "markdown",
   "metadata": {},
   "source": [
    "### Load Pictures in (TRAIN X) and (TRAIN Y) "
   ]
  },
  {
   "cell_type": "code",
   "execution_count": 15,
   "metadata": {},
   "outputs": [
    {
     "name": "stdout",
     "output_type": "stream",
     "text": [
      "100\n",
      "200\n",
      "300\n",
      "400\n",
      "500\n",
      "600\n",
      "700\n",
      "800\n",
      "900\n",
      "1000\n",
      "1100\n",
      "1200\n",
      "1300\n",
      "1400\n",
      "1500\n",
      "1600\n",
      "1700\n",
      "1800\n",
      "1900\n",
      "2000\n",
      "2100\n",
      "2200\n",
      "2300\n",
      "2400\n",
      "2500\n",
      "2600\n",
      "2700\n",
      "2800\n",
      "2900\n",
      "3000\n",
      "3100\n",
      "3200\n",
      "3300\n",
      "3400\n",
      "3500\n",
      "3600\n",
      "3700\n",
      "3800\n",
      "3900\n",
      "4000\n",
      "4100\n",
      "4200\n",
      "4300\n",
      "4400\n",
      "4500\n",
      "4600\n",
      "4700\n",
      "4800\n",
      "4900\n",
      "5000\n",
      "5100\n",
      "5200\n",
      "5300\n",
      "5400\n",
      "5500\n",
      "5600\n",
      "5700\n",
      "5800\n",
      "5900\n",
      "6000\n",
      "6100\n",
      "6200\n",
      "6300\n",
      "6400\n",
      "6500\n",
      "6600\n",
      "6700\n",
      "6800\n",
      "6900\n",
      "7000\n"
     ]
    }
   ],
   "source": [
    "count=0\n",
    "X_Train=np.ndarray((NUM_ROWS,IMAGE_WIDTH,IMAGE_HEIGHT,3), dtype=np.float32)\n",
    "y_Train=np.ndarray((NUM_ROWS,NUM_GENRES), dtype=int)\n",
    "for i in randomIndex[:7000]:\n",
    "    temp=genres.iloc[i]\n",
    "    path=\"Pictures/\"+str(temp[\"TMDB ID\"])+\".jpg\"\n",
    "    img=read_image_from_file(path)\n",
    "    X_Train[count]=img\n",
    "    labels=np.asarray(temp[2:].values)\n",
    "    #print(labels)\n",
    "    y_Train[count]=labels\n",
    "    count=count+1\n",
    "    if count%100==0:\n",
    "        print(count)"
   ]
  },
  {
   "cell_type": "markdown",
   "metadata": {},
   "source": [
    "### Load Pictures in (test X) and (test Y) "
   ]
  },
  {
   "cell_type": "code",
   "execution_count": 16,
   "metadata": {},
   "outputs": [
    {
     "name": "stdout",
     "output_type": "stream",
     "text": [
      "100\n",
      "200\n",
      "300\n",
      "400\n",
      "500\n",
      "600\n",
      "700\n",
      "800\n",
      "900\n",
      "1000\n",
      "1100\n",
      "1200\n",
      "1300\n",
      "1400\n",
      "1500\n",
      "1600\n",
      "1700\n",
      "1800\n",
      "1900\n",
      "2000\n",
      "2100\n",
      "2200\n",
      "2300\n",
      "2400\n",
      "2500\n",
      "2600\n",
      "2700\n",
      "2800\n",
      "2900\n",
      "3000\n",
      "3100\n",
      "3200\n",
      "3300\n",
      "3400\n",
      "3500\n"
     ]
    }
   ],
   "source": [
    "count=0\n",
    "X_Test=np.ndarray((3590,IMAGE_WIDTH,IMAGE_HEIGHT,3), dtype=np.float32)\n",
    "y_Test=np.ndarray((3590,NUM_GENRES), dtype=int)\n",
    "for i in randomIndex[7000:]:\n",
    "    temp=genres.iloc[i]\n",
    "    path=\"Pictures/\"+str(temp[\"TMDB ID\"])+\".jpg\"\n",
    "    img=read_image_from_file(path)\n",
    "    X_Test[count]=img\n",
    "    labels=np.asarray(temp[2:].values)\n",
    "    #print(labels)\n",
    "    y_Test[count]=labels\n",
    "    count=count+1\n",
    "    if count%100==0:\n",
    "        print(count)"
   ]
  },
  {
   "cell_type": "code",
   "execution_count": 17,
   "metadata": {},
   "outputs": [
    {
     "name": "stdout",
     "output_type": "stream",
     "text": [
      "(7000, 154, 154, 3)\n",
      "(7000, 9)\n",
      "(3590, 154, 154, 3)\n",
      "(3590, 9)\n"
     ]
    }
   ],
   "source": [
    "print(X_Train.shape)\n",
    "print(y_Train.shape)\n",
    "print(X_Test.shape)\n",
    "print(y_Test.shape)"
   ]
  },
  {
   "cell_type": "code",
   "execution_count": 18,
   "metadata": {
    "collapsed": true
   },
   "outputs": [],
   "source": [
    "X_Train=scale_pixel_values(X_Train)\n",
    "X_Test=scale_pixel_values(X_Test)"
   ]
  },
  {
   "cell_type": "code",
   "execution_count": 12,
   "metadata": {
    "scrolled": true
   },
   "outputs": [
    {
     "name": "stderr",
     "output_type": "stream",
     "text": [
      "C:\\ProgramData\\Anaconda3\\lib\\site-packages\\h5py\\__init__.py:36: FutureWarning: Conversion of the second argument of issubdtype from `float` to `np.floating` is deprecated. In future, it will be treated as `np.float64 == np.dtype(float).type`.\n",
      "  from ._conv import register_converters as _register_converters\n",
      "Using TensorFlow backend.\n"
     ]
    }
   ],
   "source": [
    "# FORCE tensorflow as backend\n",
    "import os\n",
    "os.environ['KERAS_BACKEND'] = 'tensorflow'\n",
    "\n",
    "import keras\n",
    "from keras.models import Sequential\n",
    "from keras.layers import Dense, Dropout, Flatten\n",
    "from keras.layers import Conv2D, MaxPooling2D, BatchNormalization"
   ]
  },
  {
   "cell_type": "code",
   "execution_count": 19,
   "metadata": {
    "collapsed": true
   },
   "outputs": [],
   "source": [
    "input_shape = (IMAGE_WIDTH, IMAGE_HEIGHT, 3)\n",
    "# smaller batch size means noisier gradient, but more updates per epoch\n",
    "batch_size = 40\n",
    "# this is fixed, we have 9 output classes\n",
    "num_classes = NUM_GENRES\n",
    "classes = NUM_GENRES"
   ]
  },
  {
   "cell_type": "code",
   "execution_count": 20,
   "metadata": {
    "collapsed": true
   },
   "outputs": [],
   "source": [
    "model = Sequential()\n",
    "# input: 154x154 images with 3 channels -> (154, 154, 3) tensors.\n",
    "# this applies 64 convolution filters of size 3x3 each."
   ]
  },
  {
   "cell_type": "code",
   "execution_count": 21,
   "metadata": {
    "collapsed": true
   },
   "outputs": [],
   "source": [
    "model.add(Conv2D(64, (5, 5), activation='relu', input_shape=input_shape))\n",
    "model.add(Conv2D(64, (3, 3), activation='relu'))\n",
    "model.add(MaxPooling2D(pool_size=(2, 2)))\n",
    "model.add(Dropout(0.25))"
   ]
  },
  {
   "cell_type": "code",
   "execution_count": 22,
   "metadata": {
    "collapsed": true
   },
   "outputs": [],
   "source": [
    "model.add(Conv2D(32, (3, 3), activation='relu'))\n",
    "model.add(Conv2D(32, (3, 3), activation='relu'))\n",
    "model.add(MaxPooling2D(pool_size=(2, 2)))\n",
    "model.add(Dropout(0.25))"
   ]
  },
  {
   "cell_type": "code",
   "execution_count": 23,
   "metadata": {
    "collapsed": true
   },
   "outputs": [],
   "source": [
    "model.add(Flatten())\n",
    "model.add(Dense(64, activation='relu'))\n",
    "model.add(Dropout(0.5))\n",
    "model.add(Dense(NUM_GENRES,activation='sigmoid'))"
   ]
  },
  {
   "cell_type": "code",
   "execution_count": 24,
   "metadata": {},
   "outputs": [
    {
     "name": "stdout",
     "output_type": "stream",
     "text": [
      "_________________________________________________________________\n",
      "Layer (type)                 Output Shape              Param #   \n",
      "=================================================================\n",
      "conv2d_1 (Conv2D)            (None, 150, 150, 64)      4864      \n",
      "_________________________________________________________________\n",
      "conv2d_2 (Conv2D)            (None, 148, 148, 64)      36928     \n",
      "_________________________________________________________________\n",
      "max_pooling2d_1 (MaxPooling2 (None, 74, 74, 64)        0         \n",
      "_________________________________________________________________\n",
      "dropout_1 (Dropout)          (None, 74, 74, 64)        0         \n",
      "_________________________________________________________________\n",
      "conv2d_3 (Conv2D)            (None, 72, 72, 32)        18464     \n",
      "_________________________________________________________________\n",
      "conv2d_4 (Conv2D)            (None, 70, 70, 32)        9248      \n",
      "_________________________________________________________________\n",
      "max_pooling2d_2 (MaxPooling2 (None, 35, 35, 32)        0         \n",
      "_________________________________________________________________\n",
      "dropout_2 (Dropout)          (None, 35, 35, 32)        0         \n",
      "_________________________________________________________________\n",
      "flatten_1 (Flatten)          (None, 39200)             0         \n",
      "_________________________________________________________________\n",
      "dense_1 (Dense)              (None, 64)                2508864   \n",
      "_________________________________________________________________\n",
      "dropout_3 (Dropout)          (None, 64)                0         \n",
      "_________________________________________________________________\n",
      "dense_2 (Dense)              (None, 9)                 585       \n",
      "=================================================================\n",
      "Total params: 2,578,953\n",
      "Trainable params: 2,578,953\n",
      "Non-trainable params: 0\n",
      "_________________________________________________________________\n"
     ]
    }
   ],
   "source": [
    "# prints out a summary of the model architecture\n",
    "model.summary()"
   ]
  },
  {
   "cell_type": "code",
   "execution_count": 25,
   "metadata": {
    "collapsed": true
   },
   "outputs": [],
   "source": [
    "model.compile(loss='binary_crossentropy',\n",
    "              optimizer=keras.optimizers.Adam(),\n",
    "              metrics=['accuracy'])"
   ]
  },
  {
   "cell_type": "markdown",
   "metadata": {},
   "source": [
    "We tried a couple differnt ways to improve accuracy and this is our final model "
   ]
  },
  {
   "cell_type": "markdown",
   "metadata": {
    "collapsed": true
   },
   "source": [
    "## Test 9 w/ 10 epochs"
   ]
  },
  {
   "cell_type": "code",
   "execution_count": 43,
   "metadata": {},
   "outputs": [
    {
     "name": "stdout",
     "output_type": "stream",
     "text": [
      "Train on 6300 samples, validate on 700 samples\n",
      "Epoch 1/10\n",
      "6300/6300 [==============================] - 700s 111ms/step - loss: 0.5022 - acc: 0.7734 - val_loss: 0.4833 - val_acc: 0.7784\n",
      "Epoch 2/10\n",
      "6300/6300 [==============================] - 787s 125ms/step - loss: 0.4931 - acc: 0.7758 - val_loss: 0.4787 - val_acc: 0.7806\n",
      "Epoch 3/10\n",
      "6300/6300 [==============================] - 1109s 176ms/step - loss: 0.4872 - acc: 0.7811 - val_loss: 0.4791 - val_acc: 0.7848\n",
      "Epoch 4/10\n",
      "6300/6300 [==============================] - 1098s 174ms/step - loss: 0.4812 - acc: 0.7835 - val_loss: 0.4744 - val_acc: 0.7856\n",
      "Epoch 5/10\n",
      "6300/6300 [==============================] - 1098s 174ms/step - loss: 0.4703 - acc: 0.7871 - val_loss: 0.4791 - val_acc: 0.7865\n",
      "Epoch 6/10\n",
      "6300/6300 [==============================] - 1093s 173ms/step - loss: 0.4571 - acc: 0.7928 - val_loss: 0.4752 - val_acc: 0.7837\n",
      "Epoch 7/10\n",
      "6300/6300 [==============================] - 1098s 174ms/step - loss: 0.4345 - acc: 0.8012 - val_loss: 0.4844 - val_acc: 0.7832\n",
      "Epoch 8/10\n",
      "6300/6300 [==============================] - 1096s 174ms/step - loss: 0.4127 - acc: 0.8103 - val_loss: 0.4921 - val_acc: 0.7825\n",
      "Epoch 9/10\n",
      "6300/6300 [==============================] - 1097s 174ms/step - loss: 0.3875 - acc: 0.8213 - val_loss: 0.5089 - val_acc: 0.7771\n",
      "Epoch 10/10\n",
      "6300/6300 [==============================] - 1096s 174ms/step - loss: 0.3602 - acc: 0.8341 - val_loss: 0.5071 - val_acc: 0.7746\n"
     ]
    },
    {
     "data": {
      "text/plain": [
       "<keras.callbacks.History at 0x226421377f0>"
      ]
     },
     "execution_count": 43,
     "metadata": {},
     "output_type": "execute_result"
    }
   ],
   "source": [
    "# Fitting with 1 epochs\n",
    "model.fit(X_Train,y_Train, batch_size=batch_size, epochs=10,\n",
    "          verbose=1, validation_split=0.1)"
   ]
  },
  {
   "cell_type": "code",
   "execution_count": 44,
   "metadata": {
    "collapsed": true
   },
   "outputs": [],
   "source": [
    "pred_E10 = model.predict((X_Test))\n",
    "pred_classes_E10 = model.predict_classes(X_Test)"
   ]
  },
  {
   "cell_type": "code",
   "execution_count": 45,
   "metadata": {
    "collapsed": true
   },
   "outputs": [],
   "source": [
    "model_name = \"model_E10.json\"\n",
    "model_weights = \"model_E10.h5\""
   ]
  },
  {
   "cell_type": "code",
   "execution_count": 46,
   "metadata": {},
   "outputs": [
    {
     "name": "stdout",
     "output_type": "stream",
     "text": [
      "Saved model and weights\n"
     ]
    }
   ],
   "source": [
    "# Store model as json\n",
    "model_json = model.to_json()\n",
    "with open(model_name, \"w\") as json_file:\n",
    "    json_file.write(model_json)\n",
    "    \n",
    "# Store weights\n",
    "model.save_weights(model_weights)\n",
    "\n",
    "print(\"Saved model and weights\")"
   ]
  },
  {
   "cell_type": "code",
   "execution_count": 47,
   "metadata": {},
   "outputs": [
    {
     "name": "stdout",
     "output_type": "stream",
     "text": [
      "Loaded model from files\n"
     ]
    }
   ],
   "source": [
    "from keras.models import model_from_json\n",
    "\n",
    "# load json and create model\n",
    "json_file = open(model_name, 'r')\n",
    "loaded_model_json = json_file.read()\n",
    "json_file.close()\n",
    "loaded_model = model_from_json(loaded_model_json)\n",
    "\n",
    "# load weights into new model\n",
    "loaded_model.load_weights(model_weights)\n",
    "\n",
    "print(\"Loaded model from files\")"
   ]
  },
  {
   "cell_type": "markdown",
   "metadata": {},
   "source": [
    "## Test accuracy"
   ]
  },
  {
   "cell_type": "code",
   "execution_count": 48,
   "metadata": {},
   "outputs": [
    {
     "name": "stdout",
     "output_type": "stream",
     "text": [
      "3590/3590 [==============================] - 215s 60ms/step\n",
      "Test score: 0.5008475272436328\n",
      "Test accuracy: 0.779665748555016\n"
     ]
    }
   ],
   "source": [
    "score, acc = model.evaluate(X_Test, y_Test,\n",
    "                            batch_size=batch_size)\n",
    "print('Test score:', score)\n",
    "print('Test accuracy:', acc)"
   ]
  },
  {
   "cell_type": "markdown",
   "metadata": {},
   "source": [
    "## Result analysis"
   ]
  },
  {
   "cell_type": "code",
   "execution_count": 49,
   "metadata": {},
   "outputs": [
    {
     "name": "stderr",
     "output_type": "stream",
     "text": [
      "b'Skipping line 8821: expected 6 fields, saw 7\\n'\n"
     ]
    }
   ],
   "source": [
    "movies = pd.read_csv(\"tmdbMovies.csv\", delimiter=';', error_bad_lines=False, skip_blank_lines =True,encoding = \"ISO-8859-1\")\n",
    "movies = movies[np.isfinite(movies['genre count'])]\n",
    "slc=[\"TMDB ID\",\"genre count\"]\n",
    "movies=movies.astype({c: int for c in slc})"
   ]
  },
  {
   "cell_type": "code",
   "execution_count": 50,
   "metadata": {
    "collapsed": true
   },
   "outputs": [],
   "source": [
    "qwerty=list(genres.iloc[randomIndex[5000:6000]][\"TMDB ID\"])"
   ]
  },
  {
   "cell_type": "code",
   "execution_count": 51,
   "metadata": {
    "collapsed": true
   },
   "outputs": [],
   "source": [
    "GenreList=[\"Action\",\"Adventure\",\"Comedy\",\"Crime\",\"Drama\",\"Horror\",\"Romance\",\"Science Fiction\",\"Thriller\"]\n",
    "import matplotlib.pyplot as plt\n",
    "import PIL\n",
    "%matplotlib inline\n",
    "movies.set_index(\"TMDB ID\", inplace=True)"
   ]
  },
  {
   "cell_type": "code",
   "execution_count": 54,
   "metadata": {
    "collapsed": true
   },
   "outputs": [],
   "source": [
    "def showImage(Id,index):\n",
    "    holding=movies.loc[Id]\n",
    "    print(\"Title is \", holding[\"title\"])\n",
    "    hold=holding[\"Genres\"].split(\"~\")\n",
    "    hold=hold[1:]\n",
    "    hold = [item.strip() for item in hold]\n",
    "    actualGenres=\"\"\n",
    "    for i in hold:\n",
    "        if i in GenreList:\n",
    "            actualGenres=actualGenres+i+\"|\"\n",
    "            \n",
    "    print(\"Actual Genres \", actualGenres)\n",
    "    temp=pred_E10[index]\n",
    "    stringGenres=\"\"\n",
    "    for a, b in zip(temp, GenreList):\n",
    "        if(a>0.47):\n",
    "            stringGenres=stringGenres+b+\" \"+str(a)+\"|\"\n",
    "\n",
    "    print(\"Predicted Genres \",stringGenres)\n",
    "    img = PIL.Image.open(\"Pictures/\"+str(Id)+\".jpg\")\n",
    "    plt.axis('off')\n",
    "    plt.imshow(img)"
   ]
  },
  {
   "cell_type": "code",
   "execution_count": 55,
   "metadata": {},
   "outputs": [
    {
     "name": "stdout",
     "output_type": "stream",
     "text": [
      "Title is  Revolt\n",
      "Actual Genres  Action|Science Fiction|\n",
      "Predicted Genres  Action 0.53374696|Drama 0.55701804|Thriller 0.48918483|\n"
     ]
    },
    {
     "data": {
      "image/png": "[encoded data removed]",
      "text/plain": [
       "<matplotlib.figure.Figure at 0x2264254bc18>"
      ]
     },
     "metadata": {},
     "output_type": "display_data"
    }
   ],
   "source": [
    "showImage(qwerty[1],1)"
   ]
  },
  {
   "cell_type": "code",
   "execution_count": null,
   "metadata": {
    "collapsed": true
   },
   "outputs": [],
   "source": []
  }
 ],
 "metadata": {
  "kernelspec": {
   "display_name": "Python 3",
   "language": "python",
   "name": "python3"
  },
  "language_info": {
   "codemirror_mode": {
    "name": "ipython",
    "version": 3
   },
   "file_extension": ".py",
   "mimetype": "text/x-python",
   "name": "python",
   "nbconvert_exporter": "python",
   "pygments_lexer": "ipython3",
   "version": "3.6.4"
  }
 },
 "nbformat": 4,
 "nbformat_minor": 2
}
